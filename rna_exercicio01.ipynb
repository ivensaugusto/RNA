{
  "nbformat": 4,
  "nbformat_minor": 0,
  "metadata": {
    "colab": {
      "provenance": [],
      "authorship_tag": "ABX9TyP6jLkJLpsUUyCf1neetZyn",
      "include_colab_link": true
    },
    "kernelspec": {
      "name": "python3",
      "display_name": "Python 3"
    },
    "language_info": {
      "name": "python"
    }
  },
  "cells": [
    {
      "cell_type": "markdown",
      "metadata": {
        "id": "view-in-github",
        "colab_type": "text"
      },
      "source": [
        "<a href=\"https://colab.research.google.com/github/ivensaugusto/RNA/blob/main/rna_exercicio01.ipynb\" target=\"_parent\"><img src=\"https://colab.research.google.com/assets/colab-badge.svg\" alt=\"Open In Colab\"/></a>"
      ]
    },
    {
      "cell_type": "code",
      "execution_count": null,
      "metadata": {
        "colab": {
          "base_uri": "https://localhost:8080/"
        },
        "id": "TZFPnlCHS0ZY",
        "outputId": "41fb876b-4208-4b7b-a78a-aec1d7d39da4"
      },
      "outputs": [
        {
          "output_type": "execute_result",
          "data": {
            "text/plain": [
              "((8982,), (8982,), (2246,), (2246,))"
            ]
          },
          "metadata": {},
          "execution_count": 46
        }
      ],
      "source": [
        "from tensorflow.keras.datasets import reuters\n",
        "(train_data, train_labels), (test_data, test_labels) = reuters.load_data(num_words=10000)\n",
        "train_data.shape, train_labels.shape, test_data.shape, test_labels.shape"
      ]
    },
    {
      "cell_type": "code",
      "source": [
        "train_data[0:1], train_labels[0:1]"
      ],
      "metadata": {
        "colab": {
          "base_uri": "https://localhost:8080/"
        },
        "id": "1e5UBaVvgK66",
        "outputId": "b51b57b7-ff14-497e-80e6-39a0de009a94"
      },
      "execution_count": null,
      "outputs": [
        {
          "output_type": "execute_result",
          "data": {
            "text/plain": [
              "(array([list([1, 2, 2, 8, 43, 10, 447, 5, 25, 207, 270, 5, 3095, 111, 16, 369, 186, 90, 67, 7, 89, 5, 19, 102, 6, 19, 124, 15, 90, 67, 84, 22, 482, 26, 7, 48, 4, 49, 8, 864, 39, 209, 154, 6, 151, 6, 83, 11, 15, 22, 155, 11, 15, 7, 48, 9, 4579, 1005, 504, 6, 258, 6, 272, 11, 15, 22, 134, 44, 11, 15, 16, 8, 197, 1245, 90, 67, 52, 29, 209, 30, 32, 132, 6, 109, 15, 17, 12])],\n",
              "       dtype=object),\n",
              " array([3]))"
            ]
          },
          "metadata": {},
          "execution_count": 47
        }
      ]
    },
    {
      "cell_type": "code",
      "source": [
        "def decode_words(word_index, sentence):\n",
        "    reverse_word_index = dict(\n",
        "        [(value, key) for (key, value) in word_index.items()]\n",
        "    )\n",
        "    return \" \".join(\n",
        "        [reverse_word_index.get(i-3, \"?\") for i in sentence]\n",
        "    )\n",
        "decode_words(reuters.get_word_index(), train_data[0])"
      ],
      "metadata": {
        "colab": {
          "base_uri": "https://localhost:8080/",
          "height": 70
        },
        "id": "PBs_m2t0WnDQ",
        "outputId": "978db87f-b0ad-4596-e396-3233a2f189bf"
      },
      "execution_count": null,
      "outputs": [
        {
          "output_type": "execute_result",
          "data": {
            "text/plain": [
              "'? ? ? said as a result of its december acquisition of space co it expects earnings per share in 1987 of 1 15 to 1 30 dlrs per share up from 70 cts in 1986 the company said pretax net should rise to nine to 10 mln dlrs from six mln dlrs in 1986 and rental operation revenues to 19 to 22 mln dlrs from 12 5 mln dlrs it said cash flow per share this year should be 2 50 to three dlrs reuter 3'"
            ],
            "application/vnd.google.colaboratory.intrinsic+json": {
              "type": "string"
            }
          },
          "metadata": {},
          "execution_count": 48
        }
      ]
    },
    {
      "cell_type": "code",
      "source": [
        "import numpy as np\n",
        "def vectorize_sequences(sequences, dimension=10000):\n",
        "  results = np.zeros((len(sequences), dimension))\n",
        "  for i, sequence in enumerate(sequences):\n",
        "    for j in sequence:\n",
        "      results[i, j] = 1\n",
        "  return results\n",
        "x_train = vectorize_sequences(train_data)\n",
        "x_test = vectorize_sequences(test_data)\n",
        "y_train = np.array(train_labels).astype(\"float32\")\n",
        "y_test = np.array(test_labels).astype(\"float32\")\n",
        "x_train.shape, y_train.shape, x_test.shape, y_test.shape"
      ],
      "metadata": {
        "colab": {
          "base_uri": "https://localhost:8080/"
        },
        "id": "E_Ov1UskfaUs",
        "outputId": "c5c38d24-54d1-4a01-d467-f7b4632e9c35"
      },
      "execution_count": null,
      "outputs": [
        {
          "output_type": "execute_result",
          "data": {
            "text/plain": [
              "((8982, 10000), (8982,), (2246, 10000), (2246,))"
            ]
          },
          "metadata": {},
          "execution_count": 49
        }
      ]
    },
    {
      "cell_type": "code",
      "source": [
        "def to_one_hot(labels):\n",
        "  dimentions = len(labels)\n",
        "  results = np.zeros((len(labels), dimentions))\n",
        "  for i, label in enumerate(labels):\n",
        "    results[i, label] = 1\n",
        "  return results\n",
        "y_train = to_one_hot(train_labels)\n",
        "y_test = to_one_hot(test_labels)\n",
        "y_train.shape, x_test.shape"
      ],
      "metadata": {
        "colab": {
          "base_uri": "https://localhost:8080/"
        },
        "id": "WCsMesZPqFho",
        "outputId": "cdddc0d0-5799-4b61-8e6e-29acbfc529f5"
      },
      "execution_count": null,
      "outputs": [
        {
          "output_type": "execute_result",
          "data": {
            "text/plain": [
              "((8982, 8982), (2246, 10000))"
            ]
          },
          "metadata": {},
          "execution_count": 50
        }
      ]
    },
    {
      "cell_type": "code",
      "source": [
        "from tensorflow.keras.utils import to_categorical\n",
        "y_train = to_categorical(train_labels)\n",
        "y_test = to_categorical(test_labels)\n",
        "y_train.shape, x_test.shape\n"
      ],
      "metadata": {
        "colab": {
          "base_uri": "https://localhost:8080/"
        },
        "id": "Wmn0-9HerN3Y",
        "outputId": "9c124ae9-b0c0-4d5c-cd6e-580fe2f5197c"
      },
      "execution_count": null,
      "outputs": [
        {
          "output_type": "execute_result",
          "data": {
            "text/plain": [
              "((8982, 46), (2246, 10000))"
            ]
          },
          "metadata": {},
          "execution_count": 51
        }
      ]
    },
    {
      "cell_type": "code",
      "source": [
        "from keras.engine.training import optimizer\n",
        "from tensorflow import keras\n",
        "from tensorflow.keras import layers\n",
        "\n",
        "model = keras.Sequential([\n",
        "    layers.Dense(64, activation=\"relu\"),\n",
        "    layers.Dense(64, activation=\"relu\"),\n",
        "    layers.Dense(46, activation=\"softmax\")\n",
        "])\n",
        "model.compile(optimizer=\"rmsprop\",\n",
        "              loss=\"categorical_crossentropy\",\n",
        "              metrics=[\"accuracy\"])"
      ],
      "metadata": {
        "id": "a2Fm6BUEf20Y"
      },
      "execution_count": null,
      "outputs": []
    },
    {
      "cell_type": "code",
      "source": [
        "n_val = 1000\n",
        "x_val = x_train[:n_val]\n",
        "partial_x_train = x_train[n_val:]\n",
        "y_val = y_train[:n_val]\n",
        "partial_y_train = y_train[n_val:]\n",
        "x_val.shape, partial_x_train.shape, y_val.shape, partial_y_train.shape"
      ],
      "metadata": {
        "colab": {
          "base_uri": "https://localhost:8080/"
        },
        "id": "582LV3jSlZ3D",
        "outputId": "50109316-0805-4930-f128-01afb71fdfed"
      },
      "execution_count": null,
      "outputs": [
        {
          "output_type": "execute_result",
          "data": {
            "text/plain": [
              "((1000, 10000), (7982, 10000), (1000, 46), (7982, 46))"
            ]
          },
          "metadata": {},
          "execution_count": 54
        }
      ]
    },
    {
      "cell_type": "code",
      "source": [
        "history = model.fit(partial_x_train, partial_y_train,\n",
        "                    epochs=20, batch_size=512,\n",
        "                    validation_data=(x_val, y_val))"
      ],
      "metadata": {
        "colab": {
          "base_uri": "https://localhost:8080/"
        },
        "id": "5uNiNtIBsd--",
        "outputId": "636462fa-361d-4cf0-845c-6b704f8a8cdc"
      },
      "execution_count": null,
      "outputs": [
        {
          "output_type": "stream",
          "name": "stdout",
          "text": [
            "Epoch 1/20\n",
            "16/16 [==============================] - 2s 87ms/step - loss: 2.9144 - accuracy: 0.4746 - val_loss: 1.9585 - val_accuracy: 0.6070\n",
            "Epoch 2/20\n",
            "16/16 [==============================] - 2s 103ms/step - loss: 1.6403 - accuracy: 0.6634 - val_loss: 1.4345 - val_accuracy: 0.6900\n",
            "Epoch 3/20\n",
            "16/16 [==============================] - 1s 71ms/step - loss: 1.2370 - accuracy: 0.7369 - val_loss: 1.2247 - val_accuracy: 0.7290\n",
            "Epoch 4/20\n",
            "16/16 [==============================] - 1s 56ms/step - loss: 1.0103 - accuracy: 0.7868 - val_loss: 1.1203 - val_accuracy: 0.7570\n",
            "Epoch 5/20\n",
            "16/16 [==============================] - 1s 53ms/step - loss: 0.8493 - accuracy: 0.8192 - val_loss: 1.0254 - val_accuracy: 0.7780\n",
            "Epoch 6/20\n",
            "16/16 [==============================] - 1s 53ms/step - loss: 0.7121 - accuracy: 0.8470 - val_loss: 0.9801 - val_accuracy: 0.7910\n",
            "Epoch 7/20\n",
            "16/16 [==============================] - 1s 53ms/step - loss: 0.6045 - accuracy: 0.8685 - val_loss: 0.9116 - val_accuracy: 0.8070\n",
            "Epoch 8/20\n",
            "16/16 [==============================] - 1s 53ms/step - loss: 0.5093 - accuracy: 0.8925 - val_loss: 0.8849 - val_accuracy: 0.8120\n",
            "Epoch 9/20\n",
            "16/16 [==============================] - 1s 51ms/step - loss: 0.4311 - accuracy: 0.9087 - val_loss: 0.8684 - val_accuracy: 0.8130\n",
            "Epoch 10/20\n",
            "16/16 [==============================] - 1s 52ms/step - loss: 0.3658 - accuracy: 0.9209 - val_loss: 0.8534 - val_accuracy: 0.8120\n",
            "Epoch 11/20\n",
            "16/16 [==============================] - 1s 56ms/step - loss: 0.3202 - accuracy: 0.9316 - val_loss: 0.8459 - val_accuracy: 0.8240\n",
            "Epoch 12/20\n",
            "16/16 [==============================] - 1s 58ms/step - loss: 0.2739 - accuracy: 0.9391 - val_loss: 0.9092 - val_accuracy: 0.7930\n",
            "Epoch 13/20\n",
            "16/16 [==============================] - 1s 53ms/step - loss: 0.2416 - accuracy: 0.9414 - val_loss: 0.8639 - val_accuracy: 0.8140\n",
            "Epoch 14/20\n",
            "16/16 [==============================] - 1s 54ms/step - loss: 0.2164 - accuracy: 0.9471 - val_loss: 0.8568 - val_accuracy: 0.8220\n",
            "Epoch 15/20\n",
            "16/16 [==============================] - 1s 92ms/step - loss: 0.1974 - accuracy: 0.9506 - val_loss: 0.8693 - val_accuracy: 0.8160\n",
            "Epoch 16/20\n",
            "16/16 [==============================] - 2s 98ms/step - loss: 0.1792 - accuracy: 0.9514 - val_loss: 0.8528 - val_accuracy: 0.8250\n",
            "Epoch 17/20\n",
            "16/16 [==============================] - 1s 57ms/step - loss: 0.1659 - accuracy: 0.9535 - val_loss: 0.8748 - val_accuracy: 0.8170\n",
            "Epoch 18/20\n",
            "16/16 [==============================] - 1s 55ms/step - loss: 0.1534 - accuracy: 0.9555 - val_loss: 0.8763 - val_accuracy: 0.8150\n",
            "Epoch 19/20\n",
            "16/16 [==============================] - 1s 53ms/step - loss: 0.1447 - accuracy: 0.9562 - val_loss: 0.9007 - val_accuracy: 0.8320\n",
            "Epoch 20/20\n",
            "16/16 [==============================] - 1s 50ms/step - loss: 0.1385 - accuracy: 0.9554 - val_loss: 0.9006 - val_accuracy: 0.8150\n"
          ]
        }
      ]
    },
    {
      "cell_type": "code",
      "source": [
        "history.history.keys()"
      ],
      "metadata": {
        "colab": {
          "base_uri": "https://localhost:8080/"
        },
        "id": "JCjUKkG-sq37",
        "outputId": "c30f5ea4-bfb2-4de3-97c5-09d50c16a961"
      },
      "execution_count": null,
      "outputs": [
        {
          "output_type": "execute_result",
          "data": {
            "text/plain": [
              "dict_keys(['loss', 'accuracy', 'val_loss', 'val_accuracy'])"
            ]
          },
          "metadata": {},
          "execution_count": 56
        }
      ]
    },
    {
      "cell_type": "code",
      "source": [
        "import matplotlib.pyplot as plt\n",
        "history_dict = history.history\n",
        "loss_values = history_dict[\"loss\"]\n",
        "val_loss_values = history_dict[\"val_loss\"]\n",
        "epochs = range(1, len(loss_values)+1)\n",
        "plt.plot(epochs, loss_values, \"bo\", label=\"Trainig loss\")\n",
        "plt.plot(epochs, val_loss_values, \"b\", label=\"validation loss\")\n",
        "plt.title(\"Training and validation loss\")\n",
        "plt.xlabel(\"Epochs\")\n",
        "plt.ylabel(\"Loss\")\n",
        "plt.legend()\n",
        "plt.show()"
      ],
      "metadata": {
        "colab": {
          "base_uri": "https://localhost:8080/",
          "height": 477
        },
        "id": "cqTOC6efsr3L",
        "outputId": "1d58fdf8-32b7-46ea-ef31-6fe08ab26961"
      },
      "execution_count": null,
      "outputs": [
        {
          "output_type": "display_data",
          "data": {
            "text/plain": [
              "<Figure size 640x480 with 1 Axes>"
            ],
            "image/png": "[encoded data removed]"
          },
          "metadata": {}
        }
      ]
    },
    {
      "cell_type": "code",
      "source": [
        "import matplotlib.pyplot as plt\n",
        "history_dict = history.history\n",
        "accuracy_values = history_dict[\"accuracy\"]\n",
        "val_accuracy_values = history_dict[\"val_accuracy\"]\n",
        "epochs = range(1, len(accuracy_values)+1)\n",
        "plt.plot(epochs, accuracy_values, \"bo\", label=\"Trainig acc\")\n",
        "plt.plot(epochs, val_accuracy_values, \"b\", label=\"validation acc\")\n",
        "plt.title(\"Training and validation accuracy\")\n",
        "plt.xlabel(\"Epochs\")\n",
        "plt.ylabel(\"Accuracy\")\n",
        "plt.legend()\n",
        "plt.show()"
      ],
      "metadata": {
        "colab": {
          "base_uri": "https://localhost:8080/",
          "height": 477
        },
        "id": "dqJQA2XGs0Im",
        "outputId": "a2f481bd-6167-4e08-80df-cd26b98cd4a1"
      },
      "execution_count": null,
      "outputs": [
        {
          "output_type": "display_data",
          "data": {
            "text/plain": [
              "<Figure size 640x480 with 1 Axes>"
            ],
            "image/png": "[encoded data removed]"
          },
          "metadata": {}
        }
      ]
    },
    {
      "cell_type": "code",
      "source": [
        "model.compile(optimizer=\"rmsprop\",\n",
        "              loss=\"categorical_crossentropy\",\n",
        "              metrics=[\"accuracy\"])\n",
        "history = model.fit(partial_x_train, partial_y_train,\n",
        "                    epochs=8, batch_size=512,\n",
        "                    validation_data=(x_val, y_val))"
      ],
      "metadata": {
        "colab": {
          "base_uri": "https://localhost:8080/"
        },
        "id": "Ae2H7KFxtDBu",
        "outputId": "c6d515b1-d9a0-453d-fc43-1630cf2f9c19"
      },
      "execution_count": null,
      "outputs": [
        {
          "output_type": "stream",
          "name": "stdout",
          "text": [
            "Epoch 1/8\n",
            "16/16 [==============================] - 2s 73ms/step - loss: 0.1440 - accuracy: 0.9531 - val_loss: 0.9524 - val_accuracy: 0.8100\n",
            "Epoch 2/8\n",
            "16/16 [==============================] - 1s 57ms/step - loss: 0.1227 - accuracy: 0.9577 - val_loss: 0.9286 - val_accuracy: 0.8240\n",
            "Epoch 3/8\n",
            "16/16 [==============================] - 1s 54ms/step - loss: 0.1227 - accuracy: 0.9565 - val_loss: 0.9562 - val_accuracy: 0.8160\n",
            "Epoch 4/8\n",
            "16/16 [==============================] - 1s 54ms/step - loss: 0.1211 - accuracy: 0.9568 - val_loss: 0.9646 - val_accuracy: 0.8100\n",
            "Epoch 5/8\n",
            "16/16 [==============================] - 1s 53ms/step - loss: 0.1134 - accuracy: 0.9594 - val_loss: 0.9498 - val_accuracy: 0.8190\n",
            "Epoch 6/8\n",
            "16/16 [==============================] - 1s 56ms/step - loss: 0.1121 - accuracy: 0.9580 - val_loss: 0.9741 - val_accuracy: 0.8060\n",
            "Epoch 7/8\n",
            "16/16 [==============================] - 1s 55ms/step - loss: 0.1099 - accuracy: 0.9585 - val_loss: 0.9946 - val_accuracy: 0.8120\n",
            "Epoch 8/8\n",
            "16/16 [==============================] - 1s 64ms/step - loss: 0.1124 - accuracy: 0.9567 - val_loss: 0.9807 - val_accuracy: 0.8150\n"
          ]
        }
      ]
    },
    {
      "cell_type": "code",
      "source": [
        "y_pred = model.predict(x_test)\n",
        "y_pred"
      ],
      "metadata": {
        "colab": {
          "base_uri": "https://localhost:8080/"
        },
        "id": "k0KWux_atLVp",
        "outputId": "32709678-0bb2-4c3d-a022-7ecb4ddf9e20"
      },
      "execution_count": null,
      "outputs": [
        {
          "output_type": "stream",
          "name": "stdout",
          "text": [
            "71/71 [==============================] - 0s 4ms/step\n"
          ]
        },
        {
          "output_type": "execute_result",
          "data": {
            "text/plain": [
              "array([[2.3711617e-07, 1.6124068e-06, 8.8194918e-09, ..., 1.9314422e-08,\n",
              "        5.6080978e-08, 9.2437356e-09],\n",
              "       [3.0631411e-03, 2.5655476e-03, 8.4073748e-05, ..., 4.0202488e-07,\n",
              "        1.0684151e-05, 7.1426982e-04],\n",
              "       [7.9796521e-04, 9.6942568e-01, 4.0471356e-04, ..., 3.1195705e-06,\n",
              "        3.4357095e-04, 1.7080312e-04],\n",
              "       ...,\n",
              "       [1.7985516e-07, 1.3025745e-04, 5.7520870e-06, ..., 1.4722372e-06,\n",
              "        2.3685759e-06, 2.3557881e-07],\n",
              "       [7.0349156e-04, 7.9756295e-03, 2.0428264e-04, ..., 4.4180273e-05,\n",
              "        1.3046152e-03, 4.2083545e-04],\n",
              "       [5.9692447e-05, 9.2827553e-01, 9.6635858e-04, ..., 1.8915598e-07,\n",
              "        2.9678731e-06, 2.2169437e-05]], dtype=float32)"
            ]
          },
          "metadata": {},
          "execution_count": 60
        }
      ]
    },
    {
      "cell_type": "code",
      "source": [
        "results = model.evaluate(x_test, y_test)"
      ],
      "metadata": {
        "colab": {
          "base_uri": "https://localhost:8080/"
        },
        "id": "10wnlK-1tV4n",
        "outputId": "530e476f-2a1a-44db-b44f-eede6fa366f5"
      },
      "execution_count": null,
      "outputs": [
        {
          "output_type": "stream",
          "name": "stdout",
          "text": [
            "71/71 [==============================] - 0s 4ms/step - loss: 1.1143 - accuracy: 0.7863\n"
          ]
        }
      ]
    },
    {
      "cell_type": "code",
      "source": [
        "model = keras.Sequential([\n",
        "    layers.Dense(32, activation=\"tanh\"),\n",
        "    layers.Dense(96, activation=\"tanh\"),\n",
        "    layers.Dense(16, activation=\"relu\"),\n",
        "    layers.Dense(46, activation=\"softmax\")\n",
        "])\n",
        "model.compile(optimizer=\"rmsprop\",\n",
        "              loss=\"categorical_crossentropy\",\n",
        "              metrics=[\"accuracy\"])\n",
        "history = model.fit(partial_x_train, partial_y_train,\n",
        "                    epochs=16, batch_size=512,\n",
        "                    validation_data=(x_val, y_val))\n",
        "results = model.evaluate(x_test, y_test)"
      ],
      "metadata": {
        "colab": {
          "base_uri": "https://localhost:8080/"
        },
        "id": "awGTFBxavoPI",
        "outputId": "542bfe99-487f-4120-be85-fde57dcfe5ce"
      },
      "execution_count": null,
      "outputs": [
        {
          "output_type": "stream",
          "name": "stdout",
          "text": [
            "Epoch 1/16\n",
            "16/16 [==============================] - 2s 79ms/step - loss: 3.1752 - accuracy: 0.4379 - val_loss: 2.4246 - val_accuracy: 0.5590\n",
            "Epoch 2/16\n",
            "16/16 [==============================] - 1s 37ms/step - loss: 2.0276 - accuracy: 0.6081 - val_loss: 1.7541 - val_accuracy: 0.6300\n",
            "Epoch 3/16\n",
            "16/16 [==============================] - 1s 38ms/step - loss: 1.5655 - accuracy: 0.6597 - val_loss: 1.4879 - val_accuracy: 0.6550\n",
            "Epoch 4/16\n",
            "16/16 [==============================] - 1s 38ms/step - loss: 1.3171 - accuracy: 0.6844 - val_loss: 1.3226 - val_accuracy: 0.6840\n",
            "Epoch 5/16\n",
            "16/16 [==============================] - 1s 38ms/step - loss: 1.1347 - accuracy: 0.7321 - val_loss: 1.2107 - val_accuracy: 0.7160\n",
            "Epoch 6/16\n",
            "16/16 [==============================] - 1s 37ms/step - loss: 0.9799 - accuracy: 0.7810 - val_loss: 1.1429 - val_accuracy: 0.7360\n",
            "Epoch 7/16\n",
            "16/16 [==============================] - 1s 38ms/step - loss: 0.8468 - accuracy: 0.8121 - val_loss: 1.0984 - val_accuracy: 0.7460\n",
            "Epoch 8/16\n",
            "16/16 [==============================] - 1s 45ms/step - loss: 0.7375 - accuracy: 0.8320 - val_loss: 1.0509 - val_accuracy: 0.7630\n",
            "Epoch 9/16\n",
            "16/16 [==============================] - 1s 43ms/step - loss: 0.6413 - accuracy: 0.8494 - val_loss: 1.0271 - val_accuracy: 0.7670\n",
            "Epoch 10/16\n",
            "16/16 [==============================] - 1s 39ms/step - loss: 0.5586 - accuracy: 0.8642 - val_loss: 1.0343 - val_accuracy: 0.7710\n",
            "Epoch 11/16\n",
            "16/16 [==============================] - 1s 36ms/step - loss: 0.4845 - accuracy: 0.8831 - val_loss: 1.0240 - val_accuracy: 0.7700\n",
            "Epoch 12/16\n",
            "16/16 [==============================] - 1s 39ms/step - loss: 0.4189 - accuracy: 0.9023 - val_loss: 1.0385 - val_accuracy: 0.7710\n",
            "Epoch 13/16\n",
            "16/16 [==============================] - 1s 37ms/step - loss: 0.3640 - accuracy: 0.9174 - val_loss: 1.0271 - val_accuracy: 0.7780\n",
            "Epoch 14/16\n",
            "16/16 [==============================] - 1s 37ms/step - loss: 0.3168 - accuracy: 0.9248 - val_loss: 1.0523 - val_accuracy: 0.7820\n",
            "Epoch 15/16\n",
            "16/16 [==============================] - 1s 38ms/step - loss: 0.2751 - accuracy: 0.9321 - val_loss: 1.1033 - val_accuracy: 0.7730\n",
            "Epoch 16/16\n",
            "16/16 [==============================] - 1s 35ms/step - loss: 0.2471 - accuracy: 0.9371 - val_loss: 1.0580 - val_accuracy: 0.7880\n",
            "71/71 [==============================] - 0s 3ms/step - loss: 1.1212 - accuracy: 0.7618\n"
          ]
        }
      ]
    }
  ]
}